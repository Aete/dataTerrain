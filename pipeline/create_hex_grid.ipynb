{
 "cells": [
  {
   "cell_type": "code",
   "execution_count": 1,
   "id": "d3cf5eb4",
   "metadata": {},
   "outputs": [],
   "source": [
    "import geopandas as gpd\n",
    "import h3\n",
    "from shapely.geometry import Polygon\n",
    "import json\n",
    "\n",
    "gdf_seoul = gpd.read_file(\"./metadata/seoul_simplified.json\")\n",
    "seoul_geometry = gdf_seoul.geometry.values[0]\n",
    "geojson_boundary = json.loads(gpd.GeoSeries([seoul_geometry]).to_json())['features'][0]['geometry']"
   ]
  },
  {
   "cell_type": "code",
   "execution_count": 2,
   "id": "2fb0c6ab",
   "metadata": {},
   "outputs": [],
   "source": [
    "# geo to hex id\n",
    "h3_hexes = h3.geo_to_cells(geojson_boundary, 7)\n",
    "\n",
    "# hex to polygon\n",
    "hex_features = []\n",
    "for hex_id in h3_hexes:\n",
    "    boundary = h3.cell_to_boundary(hex_id)\n",
    "    boundary_lonlat = [(lon, lat) for lat, lon in boundary]\n",
    "    polygon = Polygon(boundary_lonlat)\n",
    "    hex_features.append({\n",
    "        'type': 'Feature',\n",
    "        'hex_id': hex_id,\n",
    "        'geometry': polygon\n",
    "    })\n",
    "\n",
    "hex_gdf = gpd.GeoDataFrame(hex_features, crs='EPSG:4326')\n",
    "hex_gdf.to_file('./metadata/seoul_h3_resolution7.geojson', driver='GeoJSON')"
   ]
  },
  {
   "cell_type": "code",
   "execution_count": 3,
   "id": "97ac563c",
   "metadata": {},
   "outputs": [],
   "source": [
    "triangle_features = []\n",
    "\n",
    "for idx, row in hex_gdf.iterrows():\n",
    "    hex_poly = row['geometry']\n",
    "    centroid = hex_poly.centroid  # 육각형 중심점 계산\n",
    "    coords = list(hex_poly.exterior.coords)\n",
    "\n",
    "    # 각 변을 중심점과 연결하여 삼각형 생성\n",
    "    for i in range(len(coords) - 1):\n",
    "        triangle = Polygon([coords[i], coords[i + 1], (centroid.x, centroid.y)])\n",
    "        triangle_features.append({\n",
    "            'hex_id': row['hex_id'],\n",
    "            'geometry': triangle\n",
    "        })\n",
    "\n",
    "triangle_gdf = gpd.GeoDataFrame(triangle_features, crs='EPSG:4326')"
   ]
  },
  {
   "cell_type": "code",
   "execution_count": 4,
   "id": "c904eb70",
   "metadata": {},
   "outputs": [],
   "source": [
    "triangle_gdf.to_file('./metadata/seoul_h3_triangles_res7.geojson', driver='GeoJSON')"
   ]
  },
  {
   "cell_type": "code",
   "execution_count": null,
   "id": "4a423bc8",
   "metadata": {},
   "outputs": [],
   "source": []
  }
 ],
 "metadata": {
  "kernelspec": {
   "display_name": "geo",
   "language": "python",
   "name": "python3"
  },
  "language_info": {
   "codemirror_mode": {
    "name": "ipython",
    "version": 3
   },
   "file_extension": ".py",
   "mimetype": "text/x-python",
   "name": "python",
   "nbconvert_exporter": "python",
   "pygments_lexer": "ipython3",
   "version": "3.11.0"
  }
 },
 "nbformat": 4,
 "nbformat_minor": 5
}
