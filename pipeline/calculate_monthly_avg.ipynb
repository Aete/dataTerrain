{
 "cells": [
  {
   "cell_type": "code",
   "execution_count": 1,
   "id": "5c88a326",
   "metadata": {},
   "outputs": [],
   "source": [
    "import os\n",
    "import numpy as np\n",
    "import pandas as pd"
   ]
  },
  {
   "cell_type": "code",
   "execution_count": 2,
   "id": "409ca1c3",
   "metadata": {},
   "outputs": [],
   "source": [
    "def calculate_daily_s_dot_average(target_dir):\n",
    "    '''\n",
    "    This function calculates the monthly average of the S_dot column from CSV files in the target directory.\n",
    "    It reads each CSV file, extracts the S_dot column, and computes the monthly average.\n",
    "    '''\n",
    "    \n",
    "    # get the list of CSV files in the target directory\n",
    "    list_csv = os.listdir(target_dir)\n",
    "    # filter the list to include only CSV files\n",
    "    list_csv = [f for f in list_csv if f.endswith(\".csv\")]\n",
    "\n",
    "    list_df = []\n",
    "    for f in list_csv:\n",
    "        # read the CSV file into a DataFrame\n",
    "        df_tmp = pd.read_csv(os.path.join(target_dir, f), encoding=\"cp949\", low_memory=False)\n",
    "        df_tmp['측정시간'] = pd.to_datetime(df_tmp['측정시간'], format='%Y-%m-%d_%H:%M:%S')\n",
    "        df_tmp['측정일'] = df_tmp['측정시간'].dt.date\n",
    "        target_columns = [c for c in df_tmp.columns if \"평균\" in c]\n",
    "        target_columns.append(\"측정일\")\n",
    "        target_columns.append(\"시리얼\")\n",
    "        list_df.append(df_tmp.loc[:,target_columns].copy())\n",
    "    \n",
    "    df = pd.concat(list_df, ignore_index=True)\n",
    "    target_columns = [c for c in df.columns if \"평균\" in c]\n",
    "    df[target_columns] = df[target_columns].replace(to_replace=r'.*[A-Za-z].*', value=np.nan, regex=True).astype(float)\n",
    "    # group by '측정일' and '시리얼' and calculate the mean of the target columns\n",
    "    df = df.groupby(['측정일', '시리얼'], as_index=False).mean()\n",
    "    return df"
   ]
  },
  {
   "cell_type": "code",
   "execution_count": 3,
   "id": "049425eb",
   "metadata": {},
   "outputs": [],
   "source": [
    "target_dir = \"raw_data/s_dot_nature_2023\"\n",
    "# calculate the monthly average of the S_dot column\n",
    "df = calculate_daily_s_dot_average(target_dir)"
   ]
  },
  {
   "cell_type": "code",
   "execution_count": 4,
   "id": "adadb8dd",
   "metadata": {},
   "outputs": [],
   "source": [
    "df_temperature = df.loc[~pd.isna(df['온도 평균(℃)'])]\n",
    "df_temperature = df_temperature.loc[:,['측정일','시리얼','온도 평균(℃)','습도 평균(%)']]\n",
    "df_temperature = df_temperature.rename(columns={'측정일':'date','시리얼':'serial_id','온도 평균(℃)': 'temp_celsius', '습도 평균(%)': 'humidity'})"
   ]
  },
  {
   "cell_type": "code",
   "execution_count": 5,
   "id": "a841adb1",
   "metadata": {},
   "outputs": [
    {
     "data": {
      "text/html": [
       "<div>\n",
       "<style scoped>\n",
       "    .dataframe tbody tr th:only-of-type {\n",
       "        vertical-align: middle;\n",
       "    }\n",
       "\n",
       "    .dataframe tbody tr th {\n",
       "        vertical-align: top;\n",
       "    }\n",
       "\n",
       "    .dataframe thead th {\n",
       "        text-align: right;\n",
       "    }\n",
       "</style>\n",
       "<table border=\"1\" class=\"dataframe\">\n",
       "  <thead>\n",
       "    <tr style=\"text-align: right;\">\n",
       "      <th></th>\n",
       "      <th>date</th>\n",
       "      <th>serial_id</th>\n",
       "      <th>temp_celsius</th>\n",
       "      <th>humidity</th>\n",
       "    </tr>\n",
       "  </thead>\n",
       "  <tbody>\n",
       "    <tr>\n",
       "      <th>0</th>\n",
       "      <td>2023-01-01</td>\n",
       "      <td>OC3CL200010</td>\n",
       "      <td>-1.017391</td>\n",
       "      <td>71.565217</td>\n",
       "    </tr>\n",
       "    <tr>\n",
       "      <th>2</th>\n",
       "      <td>2023-01-01</td>\n",
       "      <td>OC3CL200012</td>\n",
       "      <td>2.391304</td>\n",
       "      <td>46.652174</td>\n",
       "    </tr>\n",
       "    <tr>\n",
       "      <th>3</th>\n",
       "      <td>2023-01-01</td>\n",
       "      <td>OC3CL200013</td>\n",
       "      <td>0.178261</td>\n",
       "      <td>51.217391</td>\n",
       "    </tr>\n",
       "    <tr>\n",
       "      <th>4</th>\n",
       "      <td>2023-01-01</td>\n",
       "      <td>OC3CL200014</td>\n",
       "      <td>2.778261</td>\n",
       "      <td>56.391304</td>\n",
       "    </tr>\n",
       "    <tr>\n",
       "      <th>5</th>\n",
       "      <td>2023-01-01</td>\n",
       "      <td>OC3CL200016</td>\n",
       "      <td>-40.000000</td>\n",
       "      <td>48.347826</td>\n",
       "    </tr>\n",
       "    <tr>\n",
       "      <th>...</th>\n",
       "      <td>...</td>\n",
       "      <td>...</td>\n",
       "      <td>...</td>\n",
       "      <td>...</td>\n",
       "    </tr>\n",
       "    <tr>\n",
       "      <th>364738</th>\n",
       "      <td>2023-12-24</td>\n",
       "      <td>V02Q2300003</td>\n",
       "      <td>-2.095238</td>\n",
       "      <td>62.428571</td>\n",
       "    </tr>\n",
       "    <tr>\n",
       "      <th>364739</th>\n",
       "      <td>2023-12-24</td>\n",
       "      <td>V02Q2300004</td>\n",
       "      <td>-3.535000</td>\n",
       "      <td>65.750000</td>\n",
       "    </tr>\n",
       "    <tr>\n",
       "      <th>364740</th>\n",
       "      <td>2023-12-24</td>\n",
       "      <td>V02Q2300005</td>\n",
       "      <td>-2.855000</td>\n",
       "      <td>68.350000</td>\n",
       "    </tr>\n",
       "    <tr>\n",
       "      <th>364741</th>\n",
       "      <td>2023-12-24</td>\n",
       "      <td>V02Q2300006</td>\n",
       "      <td>-2.895000</td>\n",
       "      <td>68.150000</td>\n",
       "    </tr>\n",
       "    <tr>\n",
       "      <th>364742</th>\n",
       "      <td>2023-12-24</td>\n",
       "      <td>V02Q2300007</td>\n",
       "      <td>-4.447619</td>\n",
       "      <td>66.428571</td>\n",
       "    </tr>\n",
       "  </tbody>\n",
       "</table>\n",
       "<p>351312 rows × 4 columns</p>\n",
       "</div>"
      ],
      "text/plain": [
       "              date    serial_id  temp_celsius   humidity\n",
       "0       2023-01-01  OC3CL200010     -1.017391  71.565217\n",
       "2       2023-01-01  OC3CL200012      2.391304  46.652174\n",
       "3       2023-01-01  OC3CL200013      0.178261  51.217391\n",
       "4       2023-01-01  OC3CL200014      2.778261  56.391304\n",
       "5       2023-01-01  OC3CL200016    -40.000000  48.347826\n",
       "...            ...          ...           ...        ...\n",
       "364738  2023-12-24  V02Q2300003     -2.095238  62.428571\n",
       "364739  2023-12-24  V02Q2300004     -3.535000  65.750000\n",
       "364740  2023-12-24  V02Q2300005     -2.855000  68.350000\n",
       "364741  2023-12-24  V02Q2300006     -2.895000  68.150000\n",
       "364742  2023-12-24  V02Q2300007     -4.447619  66.428571\n",
       "\n",
       "[351312 rows x 4 columns]"
      ]
     },
     "execution_count": 5,
     "metadata": {},
     "output_type": "execute_result"
    }
   ],
   "source": [
    "df_temperature "
   ]
  },
  {
   "cell_type": "code",
   "execution_count": 15,
   "id": "f1da9e12",
   "metadata": {},
   "outputs": [],
   "source": [
    "import geopandas as gpd\n",
    "\n",
    "gdf_sensors = gpd.read_file('metadata/sdot_coords.csv')\n",
    "points = gpd.points_from_xy(gdf_sensors['경도'], gdf_sensors['위도'], crs=\"EPSG:4326\")\n",
    "gdf_sensors = gpd.GeoDataFrame(gdf_sensors, geometry=points, crs=\"EPSG:4326\")\n",
    "gdf_sensors = gdf_sensors.rename(columns={'모델 시리얼(*)':'serial_id'})"
   ]
  },
  {
   "cell_type": "code",
   "execution_count": 18,
   "id": "89f411af",
   "metadata": {},
   "outputs": [],
   "source": [
    "df_temperature = df_temperature.merge(gdf_sensors, on='serial_id', how='left')"
   ]
  },
  {
   "cell_type": "code",
   "execution_count": 22,
   "id": "13152ce6",
   "metadata": {},
   "outputs": [],
   "source": [
    "df_sample = df_temperature.loc[df_temperature['date'].astype(str) == '2023-01-01', ['date','serial_id','temp_celsius','humidity','위도','경도']]\n",
    "df_sample = df_sample.rename(columns={'위도':'latitude','경도':'longitude'})"
   ]
  },
  {
   "cell_type": "code",
   "execution_count": 23,
   "id": "d63396f3",
   "metadata": {},
   "outputs": [],
   "source": [
    "def clear_outliers(df, column):\n",
    "    '''\n",
    "    This function removes outliers from the specified column in the DataFrame.\n",
    "    It filters outliers based on the interquartile range (IQR) method.\n",
    "    '''\n",
    "    q1 = df[column].quantile(0.25)\n",
    "    q3 = df[column].quantile(0.75)\n",
    "    iqr = q3 - q1\n",
    "    lower_bound = q1 - 1.5 * iqr\n",
    "    upper_bound = q3 + 1.5 * iqr\n",
    "    return df[(df[column] >= lower_bound) & (df[column] <= upper_bound)]\n",
    "\n",
    "\n",
    "df_sample = clear_outliers(df_sample, 'temp_celsius')\n",
    "df_sample = clear_outliers(df_sample, 'humidity')"
   ]
  },
  {
   "cell_type": "code",
   "execution_count": 25,
   "id": "70ef6edf",
   "metadata": {},
   "outputs": [],
   "source": [
    "df_sample.to_json('../src/utils/data/data_sample.json', orient='records')"
   ]
  }
 ],
 "metadata": {
  "kernelspec": {
   "display_name": "geo",
   "language": "python",
   "name": "python3"
  },
  "language_info": {
   "codemirror_mode": {
    "name": "ipython",
    "version": 3
   },
   "file_extension": ".py",
   "mimetype": "text/x-python",
   "name": "python",
   "nbconvert_exporter": "python",
   "pygments_lexer": "ipython3",
   "version": "3.11.0"
  }
 },
 "nbformat": 4,
 "nbformat_minor": 5
}
