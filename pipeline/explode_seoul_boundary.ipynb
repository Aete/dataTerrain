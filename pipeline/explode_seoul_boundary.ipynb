{
 "cells": [
  {
   "cell_type": "code",
   "execution_count": 1,
   "id": "165d80b8",
   "metadata": {},
   "outputs": [],
   "source": [
    "import geopandas as gpd\n",
    "\n",
    "gdf_seoul = gpd.read_file(\"./raw_data/seoul_simplified.json\")"
   ]
  },
  {
   "cell_type": "code",
   "execution_count": 2,
   "id": "4fa4aad6",
   "metadata": {},
   "outputs": [],
   "source": [
    "gdf_seoul = gdf_seoul.explode(index_parts=False).reset_index(drop=True)"
   ]
  },
  {
   "cell_type": "code",
   "execution_count": 4,
   "id": "239baa08",
   "metadata": {},
   "outputs": [],
   "source": [
    "gdf_seoul.to_file(\"../src/utils/data/seoul_simplified.json\", driver=\"GeoJSON\")"
   ]
  },
  {
   "cell_type": "code",
   "execution_count": null,
   "id": "0224572c",
   "metadata": {},
   "outputs": [],
   "source": []
  }
 ],
 "metadata": {
  "kernelspec": {
   "display_name": "geo",
   "language": "python",
   "name": "python3"
  },
  "language_info": {
   "codemirror_mode": {
    "name": "ipython",
    "version": 3
   },
   "file_extension": ".py",
   "mimetype": "text/x-python",
   "name": "python",
   "nbconvert_exporter": "python",
   "pygments_lexer": "ipython3",
   "version": "3.11.0"
  }
 },
 "nbformat": 4,
 "nbformat_minor": 5
}
